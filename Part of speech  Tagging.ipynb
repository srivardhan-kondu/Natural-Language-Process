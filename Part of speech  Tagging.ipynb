{
 "cells": [
  {
   "cell_type": "markdown",
   "id": "8e091047-4e22-4ad9-9d8c-d1083179dd43",
   "metadata": {},
   "source": [
    "# Parts of speech tagging"
   ]
  },
  {
   "cell_type": "code",
   "execution_count": 1,
   "id": "651821b0-af9b-4ded-b5e6-72d02c8f3994",
   "metadata": {},
   "outputs": [],
   "source": [
    "import nltk"
   ]
  },
  {
   "cell_type": "code",
   "execution_count": 5,
   "id": "8c5feb34-9905-4dd1-910d-72487209c13a",
   "metadata": {},
   "outputs": [
    {
     "name": "stdout",
     "output_type": "stream",
     "text": [
      "[('Hello', 'NNP'), (',', ','), ('Im', 'NNP'), ('srivardhan', 'NN')]\n"
     ]
    }
   ],
   "source": [
    "print(nltk.pos_tag(\"Hello , Im srivardhan\".split()))"
   ]
  },
  {
   "cell_type": "markdown",
   "id": "4ecb3726-41f3-4f70-ba08-0dc6cadff84e",
   "metadata": {},
   "source": [
    "y used in NLP for part-of-speech tagging tasks.\r\n"
   ]
  }
 ],
 "metadata": {
  "kernelspec": {
   "display_name": "Python 3 (ipykernel)",
   "language": "python",
   "name": "python3"
  },
  "language_info": {
   "codemirror_mode": {
    "name": "ipython",
    "version": 3
   },
   "file_extension": ".py",
   "mimetype": "text/x-python",
   "name": "python",
   "nbconvert_exporter": "python",
   "pygments_lexer": "ipython3",
   "version": "3.12.4"
  }
 },
 "nbformat": 4,
 "nbformat_minor": 5
}
