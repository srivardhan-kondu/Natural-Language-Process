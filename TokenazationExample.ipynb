{
 "cells": [
  {
   "cell_type": "code",
   "execution_count": 2,
   "id": "badcdb7a-87b5-449e-b1cd-1a99ed7f3721",
   "metadata": {},
   "outputs": [
    {
     "name": "stdout",
     "output_type": "stream",
     "text": [
      "Requirement already satisfied: nltk in s:\\anaconda\\lib\\site-packages (3.8.1)\n",
      "Requirement already satisfied: click in s:\\anaconda\\lib\\site-packages (from nltk) (8.1.7)\n",
      "Requirement already satisfied: joblib in s:\\anaconda\\lib\\site-packages (from nltk) (1.4.2)\n",
      "Requirement already satisfied: regex>=2021.8.3 in s:\\anaconda\\lib\\site-packages (from nltk) (2023.10.3)\n",
      "Requirement already satisfied: tqdm in s:\\anaconda\\lib\\site-packages (from nltk) (4.66.4)\n",
      "Requirement already satisfied: colorama in s:\\anaconda\\lib\\site-packages (from click->nltk) (0.4.6)\n"
     ]
    }
   ],
   "source": [
    "!pip install nltk"
   ]
  },
  {
   "cell_type": "code",
   "execution_count": 38,
   "id": "ea7a7809-b324-4d74-b49c-dd8e19c6f234",
   "metadata": {},
   "outputs": [
    {
     "name": "stderr",
     "output_type": "stream",
     "text": [
      "[nltk_data] Downloading package punkt to C:\\Users\\sri\n",
      "[nltk_data]     vardhan\\AppData\\Roaming\\nltk_data...\n",
      "[nltk_data]   Package punkt is already up-to-date!\n"
     ]
    }
   ],
   "source": [
    "import nltk\n",
    "from nltk.tokenize import sent_tokenize\n",
    "\n",
    "# Download the 'punkt' tokenizer model\n",
    "nltk.download('punkt')\n",
    "\n",
    "# Example paragraph to tokenize\n",
    "paragraph = \"Hello there. How are you? This is a test sentence. NLTK is a useful tool for text processing's.\"\n",
    "\n",
    "# Tokenize the paragraph into sentences\n",
    "documents = sent_tokenize(paragraph)\n",
    "\n",
    "\n"
   ]
  },
  {
   "cell_type": "code",
   "execution_count": 39,
   "id": "0ec02395-6fb7-483c-8a57-68391c14cbde",
   "metadata": {},
   "outputs": [
    {
     "data": {
      "text/plain": [
       "['Hello there.',\n",
       " 'How are you?',\n",
       " 'This is a test sentence.',\n",
       " \"NLTK is a useful tool for text processing's.\"]"
      ]
     },
     "execution_count": 39,
     "metadata": {},
     "output_type": "execute_result"
    }
   ],
   "source": [
    "documents"
   ]
  },
  {
   "cell_type": "code",
   "execution_count": 40,
   "id": "5055645d-ea32-4e81-93d7-45b993b1b804",
   "metadata": {},
   "outputs": [
    {
     "name": "stdout",
     "output_type": "stream",
     "text": [
      "Hello there.\n",
      "How are you?\n",
      "This is a test sentence.\n",
      "NLTK is a useful tool for text processing's.\n"
     ]
    }
   ],
   "source": [
    "for i in documents:\n",
    "    print(i)"
   ]
  },
  {
   "cell_type": "code",
   "execution_count": 25,
   "id": "e58fad30-fabf-45b0-8fb9-2ab6ad9cc770",
   "metadata": {},
   "outputs": [],
   "source": [
    "## paragrap --->words\n",
    "## sentences ---> word"
   ]
  },
  {
   "cell_type": "code",
   "execution_count": 41,
   "id": "c07b699b-4395-4a8d-92e4-7cb881d4304a",
   "metadata": {},
   "outputs": [],
   "source": [
    "from nltk.tokenize import word_tokenize"
   ]
  },
  {
   "cell_type": "code",
   "execution_count": 42,
   "id": "9f62dc99-252b-487c-9d89-e3481899b721",
   "metadata": {},
   "outputs": [
    {
     "data": {
      "text/plain": [
       "['Hello',\n",
       " 'there',\n",
       " '.',\n",
       " 'How',\n",
       " 'are',\n",
       " 'you',\n",
       " '?',\n",
       " 'This',\n",
       " 'is',\n",
       " 'a',\n",
       " 'test',\n",
       " 'sentence',\n",
       " '.',\n",
       " 'NLTK',\n",
       " 'is',\n",
       " 'a',\n",
       " 'useful',\n",
       " 'tool',\n",
       " 'for',\n",
       " 'text',\n",
       " 'processing',\n",
       " \"'s\",\n",
       " '.']"
      ]
     },
     "execution_count": 42,
     "metadata": {},
     "output_type": "execute_result"
    }
   ],
   "source": [
    "word_tokenize(paragraph)\n"
   ]
  },
  {
   "cell_type": "code",
   "execution_count": 32,
   "id": "f852c09b-12c8-4a85-869b-15e272f52b01",
   "metadata": {},
   "outputs": [],
   "source": [
    "# for i in documents:\n",
    "#     print(word_tokenize(sentence))"
   ]
  },
  {
   "cell_type": "code",
   "execution_count": 43,
   "id": "c28948fc-32d7-47f4-84bc-cd14d69333a4",
   "metadata": {},
   "outputs": [],
   "source": [
    "from nltk.tokenize import wordpunct_tokenize"
   ]
  },
  {
   "cell_type": "code",
   "execution_count": null,
   "id": "a3ad8cb2-4e28-4fa0-9f70-c70d8f5a6a3a",
   "metadata": {},
   "outputs": [],
   "source": [
    "#  The difference between voter organization vote punch tokenise in wordpund tokenize punctifications also gets separate"
   ]
  },
  {
   "cell_type": "code",
   "execution_count": 44,
   "id": "30558c55-ee5b-405e-ad52-c11411c7f29e",
   "metadata": {},
   "outputs": [
    {
     "data": {
      "text/plain": [
       "['Hello',\n",
       " 'there',\n",
       " '.',\n",
       " 'How',\n",
       " 'are',\n",
       " 'you',\n",
       " '?',\n",
       " 'This',\n",
       " 'is',\n",
       " 'a',\n",
       " 'test',\n",
       " 'sentence',\n",
       " '.',\n",
       " 'NLTK',\n",
       " 'is',\n",
       " 'a',\n",
       " 'useful',\n",
       " 'tool',\n",
       " 'for',\n",
       " 'text',\n",
       " 'processing',\n",
       " \"'\",\n",
       " 's',\n",
       " '.']"
      ]
     },
     "execution_count": 44,
     "metadata": {},
     "output_type": "execute_result"
    }
   ],
   "source": [
    "wordpunct_tokenize(paragraph)"
   ]
  },
  {
   "cell_type": "code",
   "execution_count": 47,
   "id": "16283fe6-b1f6-467d-81e4-4e0ac640d8fb",
   "metadata": {},
   "outputs": [],
   "source": [
    "from nltk.tokenize import TreebankWordTokenizer"
   ]
  },
  {
   "cell_type": "code",
   "execution_count": 49,
   "id": "2e196465-af03-4263-8f5d-aa2ee1024cf3",
   "metadata": {},
   "outputs": [],
   "source": [
    "tokenizer=TreebankWordTokenizer()"
   ]
  },
  {
   "cell_type": "code",
   "execution_count": 50,
   "id": "567725fb-2f7e-4177-91da-7cdbdfa07e92",
   "metadata": {},
   "outputs": [
    {
     "data": {
      "text/plain": [
       "['Hello',\n",
       " 'there.',\n",
       " 'How',\n",
       " 'are',\n",
       " 'you',\n",
       " '?',\n",
       " 'This',\n",
       " 'is',\n",
       " 'a',\n",
       " 'test',\n",
       " 'sentence.',\n",
       " 'NLTK',\n",
       " 'is',\n",
       " 'a',\n",
       " 'useful',\n",
       " 'tool',\n",
       " 'for',\n",
       " 'text',\n",
       " 'processing',\n",
       " \"'s\",\n",
       " '.']"
      ]
     },
     "execution_count": 50,
     "metadata": {},
     "output_type": "execute_result"
    }
   ],
   "source": [
    "tokenizer.tokenize(paragraph)"
   ]
  }
 ],
 "metadata": {
  "kernelspec": {
   "display_name": "Python 3 (ipykernel)",
   "language": "python",
   "name": "python3"
  },
  "language_info": {
   "codemirror_mode": {
    "name": "ipython",
    "version": 3
   },
   "file_extension": ".py",
   "mimetype": "text/x-python",
   "name": "python",
   "nbconvert_exporter": "python",
   "pygments_lexer": "ipython3",
   "version": "3.12.4"
  }
 },
 "nbformat": 4,
 "nbformat_minor": 5
}
