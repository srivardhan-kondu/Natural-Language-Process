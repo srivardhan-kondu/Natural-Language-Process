{
 "cells": [
  {
   "cell_type": "markdown",
   "id": "c2d4b416-6dd0-4133-9c63-e83d04a20dbf",
   "metadata": {},
   "source": [
    "# WordNet Lemmatizer in NLP\n",
    "### Lemmatization is a process in NLP that reduces words to their base or dictionary form, known as a lemma, while considering the context or meaning of the word. Unlike stemming, which may chop off endings to produce a base form (often resulting in non-words), lemmatization returns valid words and uses a vocabulary and morphological analysis to determine the correct lemma."
   ]
  },
  {
   "cell_type": "markdown",
   "id": "7d356be4-c1f0-4bb2-9b43-50b1ee48a454",
   "metadata": {},
   "source": [
    "### WordNet Lemmatizer uses the WordNet lexical database to perform lemmatization. WordNet is a large lexical database of English, where words are grouped into sets of synonyms (synsets) and provides short definitions, usage examples, and their relationships with other words.\n",
    "are.\""
   ]
  },
  {
   "cell_type": "markdown",
   "id": "42937c99-892a-407d-a012-05af0cb4d05e",
   "metadata": {},
   "source": [
    "### Example:\n",
    "### The word \"better\" can be reduced to \"good\" using lemmatization, but stemming might just truncate it incorrectly to \"bet.\"\n",
    "### Key Differences Between Stemming and Lemmatization:\n",
    "### Stemming: Reduces words to their root form by chopping off prefixes or suffixes. E.g., \"caring\" → \"car.\"\n",
    "### Lemmatization: Reduces words to their base form (lemma) by considering the meaning and context of the word. E.g., \"caring\" → \"care.\""
   ]
  },
  {
   "cell_type": "code",
   "execution_count": 5,
   "id": "ddb9b47c-0ccf-4d6e-93c6-b26207a79872",
   "metadata": {},
   "outputs": [
    {
     "name": "stderr",
     "output_type": "stream",
     "text": [
      "[nltk_data] Downloading package wordnet to C:\\Users\\sri\n",
      "[nltk_data]     vardhan\\AppData\\Roaming\\nltk_data...\n",
      "[nltk_data] Downloading package omw-1.4 to C:\\Users\\sri\n",
      "[nltk_data]     vardhan\\AppData\\Roaming\\nltk_data...\n",
      "[nltk_data] Downloading package averaged_perceptron_tagger to\n",
      "[nltk_data]     C:\\Users\\sri vardhan\\AppData\\Roaming\\nltk_data...\n",
      "[nltk_data]   Unzipping taggers\\averaged_perceptron_tagger.zip.\n"
     ]
    },
    {
     "data": {
      "text/plain": [
       "True"
      ]
     },
     "execution_count": 5,
     "metadata": {},
     "output_type": "execute_result"
    }
   ],
   "source": [
    "import nltk\n",
    "nltk.download('wordnet')\n",
    "nltk.download('omw-1.4')  # Optional, for additional languages\n",
    "nltk.download('averaged_perceptron_tagger')  # Optional, for POS tagging\n"
   ]
  },
  {
   "cell_type": "code",
   "execution_count": 8,
   "id": "1868fe9d-55ae-4c6e-9380-3c089999b415",
   "metadata": {},
   "outputs": [],
   "source": [
    "from nltk.stem import WordNetLemmatizer"
   ]
  },
  {
   "cell_type": "code",
   "execution_count": 7,
   "id": "4f4c33aa-3af3-44b3-8ccf-9f2fca455bb6",
   "metadata": {},
   "outputs": [],
   "source": [
    "lemmatizer=WordNetLemmatizer()"
   ]
  },
  {
   "cell_type": "code",
   "execution_count": 14,
   "id": "4fbe5e1f-bc7a-4039-89ac-50f4dd860603",
   "metadata": {},
   "outputs": [
    {
     "name": "stdout",
     "output_type": "stream",
     "text": [
      "run\n",
      "good\n",
      "rock\n"
     ]
    }
   ],
   "source": [
    "print(lemmatizer.lemmatize(\"running\",pos='v'))  # Output: run\n",
    "print(lemmatizer.lemmatize(\"better\", pos='a'))  # Output: good\n",
    "print(lemmatizer.lemmatize(\"rocks\"))  # Output: rock"
   ]
  },
  {
   "cell_type": "code",
   "execution_count": 16,
   "id": "be682f43-f441-49f9-a5c4-c38ae9c6580e",
   "metadata": {},
   "outputs": [],
   "source": [
    "words=[\"eating\",\"eats\",\"eaten\",\"writing\",\"programming\",\"program\",\"programs\",\"history\"]\n"
   ]
  },
  {
   "cell_type": "code",
   "execution_count": 19,
   "id": "6d2aabaf-bd03-4256-a0a8-ae5cbfec15b3",
   "metadata": {},
   "outputs": [
    {
     "name": "stdout",
     "output_type": "stream",
     "text": [
      "eating------>eating\n",
      "eats------>eats\n",
      "eaten------>eaten\n",
      "writing------>writing\n",
      "programming------>programming\n",
      "program------>program\n",
      "programs------>program\n",
      "history------>history\n"
     ]
    }
   ],
   "source": [
    "for i in words:\n",
    "    print(i+\"------>\"+lemmatizer.lemmatize(i))"
   ]
  },
  {
   "cell_type": "code",
   "execution_count": 20,
   "id": "4ce7b36f-2571-466d-b9b0-202457affc47",
   "metadata": {},
   "outputs": [
    {
     "name": "stdout",
     "output_type": "stream",
     "text": [
      "eating------>eat\n",
      "eats------>eat\n",
      "eaten------>eat\n",
      "writing------>write\n",
      "programming------>program\n",
      "program------>program\n",
      "programs------>program\n",
      "history------>history\n"
     ]
    }
   ],
   "source": [
    "for i in words:\n",
    "    print(i+\"------>\"+lemmatizer.lemmatize(i,pos='v'))"
   ]
  }
 ],
 "metadata": {
  "kernelspec": {
   "display_name": "Python 3 (ipykernel)",
   "language": "python",
   "name": "python3"
  },
  "language_info": {
   "codemirror_mode": {
    "name": "ipython",
    "version": 3
   },
   "file_extension": ".py",
   "mimetype": "text/x-python",
   "name": "python",
   "nbconvert_exporter": "python",
   "pygments_lexer": "ipython3",
   "version": "3.12.4"
  }
 },
 "nbformat": 4,
 "nbformat_minor": 5
}
