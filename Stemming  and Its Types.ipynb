{
 "cells": [
  {
   "cell_type": "markdown",
   "id": "774568df-87b7-4e33-b18a-d515498619ec",
   "metadata": {},
   "source": [
    "# Stemming\n",
    "\n",
    "## Stemming in Natural Language Processing (NLP) is the process of reducing words to their base or root form by removing suffixes or prefixes. The root form may not necessarily be a valid word but represents the core meaning. Stemming helps in normalizing text, so words with similar meanings are treated the same during analysis.\n",
    "\n",
    "## \r\n",
    "For example, the words \"playing,\" \"played,\" \"player,\" and \"plays\" can all be reduced to the root \"play\" using stemming. However, stemming can sometimes produce non-words, like reducing \"fishing\" to \"fish\" but \"fished\" to \"fish\" (valid) or reducing \"better\" to \"bet\" (invalid)."
   ]
  },
  {
   "cell_type": "code",
   "execution_count": 22,
   "id": "183cd357-2637-49a2-9137-fcd4f17ee41c",
   "metadata": {},
   "outputs": [],
   "source": [
    "words=[\"eating\",\"eats\",\"eaten\",\"writing\",\"programming\",\"program\",\"programs\",\"history\"]\n"
   ]
  },
  {
   "cell_type": "markdown",
   "id": "72a727e1-9f46-4095-a956-93cbf02e00bb",
   "metadata": {},
   "source": [
    "## type-1 porterStemmer"
   ]
  },
  {
   "cell_type": "code",
   "execution_count": 2,
   "id": "1af1f104-d66e-4e14-b84e-9faf572110b5",
   "metadata": {},
   "outputs": [],
   "source": [
    "from nltk.stem import PorterStemmer"
   ]
  },
  {
   "cell_type": "code",
   "execution_count": 27,
   "id": "678691e8-fde3-4a84-bed4-59de8ced34e8",
   "metadata": {},
   "outputs": [],
   "source": [
    "porter_stemming=PorterStemmer()"
   ]
  },
  {
   "cell_type": "code",
   "execution_count": 28,
   "id": "8fd145a1-8dc8-449c-bff7-27cd4d96baff",
   "metadata": {},
   "outputs": [
    {
     "name": "stdout",
     "output_type": "stream",
     "text": [
      "eating------>eat\n",
      "eats------>eat\n",
      "eaten------>eaten\n",
      "writing------>write\n",
      "programming------>program\n",
      "program------>program\n",
      "programs------>program\n",
      "history------>histori\n"
     ]
    }
   ],
   "source": [
    "for i in words:\n",
    "    print(i+\"------>\"+porter_stemming.stem(i))"
   ]
  },
  {
   "cell_type": "markdown",
   "id": "9f988893-a13b-4939-be87-63d3283d5e8f",
   "metadata": {},
   "source": [
    "## Type-2 RegexpStemmer"
   ]
  },
  {
   "cell_type": "code",
   "execution_count": 7,
   "id": "6f4b20df-3733-4a93-b20e-cb1bbb2dd8d7",
   "metadata": {},
   "outputs": [],
   "source": [
    "from nltk.stem import RegexpStemmer"
   ]
  },
  {
   "cell_type": "markdown",
   "id": "20fa34a6-fcca-47ce-8179-469030475e1d",
   "metadata": {},
   "source": [
    "reg_stemmer=RegexpStemmer('fuck$|ing$|s$|e$|able$',min=4)\n",
    "reg_stemmer.stem('fuckable')"
   ]
  },
  {
   "cell_type": "markdown",
   "id": "66b2b222-e356-4702-87ad-9a5579812152",
   "metadata": {},
   "source": [
    "## Type-3 Snow Ball Stemmer"
   ]
  },
  {
   "cell_type": "code",
   "execution_count": 18,
   "id": "2279bcb8-a909-4114-afb5-73cfe37aedf9",
   "metadata": {},
   "outputs": [],
   "source": [
    "from nltk.stem import SnowballStemmer"
   ]
  },
  {
   "cell_type": "code",
   "execution_count": 21,
   "id": "02cda2eb-e20b-484a-b635-4a3d4a4e13b0",
   "metadata": {},
   "outputs": [],
   "source": [
    "snowballstemmer=SnowballStemmer('english')"
   ]
  },
  {
   "cell_type": "code",
   "execution_count": 26,
   "id": "d14b0ece-bbc8-418e-bd85-24a3f86bd29e",
   "metadata": {},
   "outputs": [
    {
     "name": "stdout",
     "output_type": "stream",
     "text": [
      "eating----------> eat\n",
      "eats----------> eat\n",
      "eaten----------> eaten\n",
      "writing----------> write\n",
      "programming----------> program\n",
      "program----------> program\n",
      "programs----------> program\n",
      "history----------> histori\n"
     ]
    }
   ],
   "source": [
    "for i in words:\n",
    "    print(i+\"---------->\",snowballstemmer.stem(i))"
   ]
  },
  {
   "cell_type": "markdown",
   "id": "7d48d483-e846-4701-9edc-c95cd1e1361e",
   "metadata": {},
   "source": [
    "### When compared to porter stemmer and snowball stemmer , there is no change in \"HISTORY\" --->> \"HISTORI\" buutt...... ook at the below diffrences"
   ]
  },
  {
   "cell_type": "code",
   "execution_count": 29,
   "id": "20e28bd0-055c-4bf2-82b1-130ae27805a4",
   "metadata": {},
   "outputs": [
    {
     "data": {
      "text/plain": [
       "('fairli', 'sportingli')"
      ]
     },
     "execution_count": 29,
     "metadata": {},
     "output_type": "execute_result"
    }
   ],
   "source": [
    "porter_stemming.stem(\"fairly\"),porter_stemming.stem(\"sportingly\")"
   ]
  },
  {
   "cell_type": "code",
   "execution_count": 30,
   "id": "fbc828d4-5cc8-4d72-ad58-e4510edffc56",
   "metadata": {},
   "outputs": [
    {
     "data": {
      "text/plain": [
       "('fair', 'sport')"
      ]
     },
     "execution_count": 30,
     "metadata": {},
     "output_type": "execute_result"
    }
   ],
   "source": [
    "snowballstemmer.stem(\"fairly\"),snowballstemmer.stem(\"sportingly\")"
   ]
  }
 ],
 "metadata": {
  "kernelspec": {
   "display_name": "Python 3 (ipykernel)",
   "language": "python",
   "name": "python3"
  },
  "language_info": {
   "codemirror_mode": {
    "name": "ipython",
    "version": 3
   },
   "file_extension": ".py",
   "mimetype": "text/x-python",
   "name": "python",
   "nbconvert_exporter": "python",
   "pygments_lexer": "ipython3",
   "version": "3.12.4"
  }
 },
 "nbformat": 4,
 "nbformat_minor": 5
}
